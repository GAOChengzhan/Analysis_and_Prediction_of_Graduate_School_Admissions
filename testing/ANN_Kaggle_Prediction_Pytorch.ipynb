{
 "cells": [
  {
   "cell_type": "code",
   "execution_count": 1,
   "id": "fc900160",
   "metadata": {},
   "outputs": [],
   "source": [
    "#Create by Weirong Dong\n",
    "#Considering all the parameters(GPA,GRE,Tofel,Ranking,RL,SOP,Research)\n",
    "import torch\n",
    "import torch.nn as nn\n",
    "import torch.optim as optim\n",
    "from torch.autograd import Variable\n",
    "import numpy as np\n",
    "import matplotlib.pyplot as plt\n",
    "\n",
    "# Load data\n",
    "admission_data = np.genfromtxt('Admission_Predict_Ver1.1.csv', delimiter=',', skip_header=1)\n",
    "# Convert to PyTorch tensors\n",
    "X = torch.from_numpy(admission_data[:, 1:-1]).float()\n",
    "y = torch.from_numpy(admission_data[:, -1]).float()\n",
    "\n",
    "# Split into train and test sets\n",
    "X_train, y_train = X[:400], y[:400]\n",
    "X_test, y_test = X[400:], y[400:]"
   ]
  },
  {
   "cell_type": "code",
   "execution_count": 2,
   "id": "2f1e0893",
   "metadata": {},
   "outputs": [
    {
     "name": "stderr",
     "output_type": "stream",
     "text": [
      "/opt/conda/lib/python3.9/site-packages/torch/nn/modules/loss.py:528: UserWarning: Using a target size (torch.Size([400])) that is different to the input size (torch.Size([400, 1])). This will likely lead to incorrect results due to broadcasting. Please ensure they have the same size.\n",
      "  return F.mse_loss(input, target, reduction=self.reduction)\n",
      "/opt/conda/lib/python3.9/site-packages/torch/autograd/__init__.py:147: UserWarning: CUDA initialization: CUDA driver initialization failed, you might not have a CUDA gpu. (Triggered internally at  /pytorch/c10/cuda/CUDAFunctions.cpp:115.)\n",
      "  Variable._execution_engine.run_backward(\n"
     ]
    },
    {
     "name": "stdout",
     "output_type": "stream",
     "text": [
      "Epoch 1, Loss: 5.3413\n",
      "Epoch 51, Loss: 0.0773\n",
      "Epoch 101, Loss: 0.0427\n",
      "Epoch 151, Loss: 0.0273\n",
      "Epoch 201, Loss: 0.0227\n",
      "Epoch 251, Loss: 0.0216\n",
      "Epoch 301, Loss: 0.0212\n",
      "Epoch 351, Loss: 0.0210\n",
      "Test Loss: 0.0187\n"
     ]
    },
    {
     "name": "stderr",
     "output_type": "stream",
     "text": [
      "/opt/conda/lib/python3.9/site-packages/torch/nn/modules/loss.py:528: UserWarning: Using a target size (torch.Size([100])) that is different to the input size (torch.Size([100, 1])). This will likely lead to incorrect results due to broadcasting. Please ensure they have the same size.\n",
      "  return F.mse_loss(input, target, reduction=self.reduction)\n"
     ]
    }
   ],
   "source": [
    "class ANN(nn.Module):\n",
    "    def __init__(self, input_dim, output_dim):\n",
    "        super(ANN, self).__init__()\n",
    "        self.fc1 = nn.Linear(input_dim, 50)\n",
    "        self.relu1 = nn.ReLU()\n",
    "        self.fc2 = nn.Linear(50, 250)\n",
    "        self.relu2 = nn.ReLU()\n",
    "        self.dropout = nn.Dropout(p=0.5)\n",
    "        self.fc3 = nn.Linear(250, 250)\n",
    "        self.relu3 = nn.ReLU()\n",
    "        self.fc4 = nn.Linear(250, 50)\n",
    "        self.relu4 = nn.ReLU()\n",
    "        self.fc5 = nn.Linear(50, output_dim)\n",
    "\n",
    "    def forward(self, x):\n",
    "        out = self.fc1(x)\n",
    "        out = self.relu1(out)\n",
    "        out = self.fc2(out)\n",
    "        out = self.relu2(out)\n",
    "        out = self.dropout(out)\n",
    "        out = self.fc3(out)\n",
    "        out = self.relu3(out)\n",
    "        out = self.dropout(out)\n",
    "        out = self.fc4(out)\n",
    "        out = self.relu4(out)\n",
    "        out = self.fc5(out)\n",
    "        return out\n",
    " \n",
    "def adjust_learning_rate(optimizer, epoch):\n",
    "    adjust_list = [300]\n",
    "    if epoch in adjust_list:\n",
    "        for param_group in optimizer.param_groups:\n",
    "            param_group['lr'] = param_group['lr'] * 0.1     \n",
    " \n",
    "input_dim = 7\n",
    "output_dim = 1\n",
    "learning_rate = 0.04\n",
    "epochs = 400\n",
    "batch_size = 400\n",
    "\n",
    "\n",
    "train_dataset = torch.utils.data.TensorDataset(X_train, y_train)\n",
    "train_loader = torch.utils.data.DataLoader(dataset=train_dataset, batch_size=batch_size, shuffle=True)\n",
    "\n",
    "model = ANN(input_dim, output_dim)\n",
    "criterion = nn.MSELoss()\n",
    "optimizer = optim.Adam(model.parameters(), lr=learning_rate)\n",
    "\n",
    "train_loss = []\n",
    "for epoch in range(epochs):\n",
    "    epoch_loss = 0\n",
    "    for batch_X, batch_y in train_loader:\n",
    "        optimizer.zero_grad()\n",
    "        output = model(batch_X)\n",
    "        loss = criterion(output, batch_y)\n",
    "        loss.backward()\n",
    "        optimizer.step()\n",
    "        epoch_loss += loss.item()\n",
    "        adjust_learning_rate(optimizer, epoch)\n",
    "    train_loss.append(epoch_loss)\n",
    "    if (epoch % 50 == 0):\n",
    "        print('Epoch {}, Loss: {:.4f}'.format(epoch+1, epoch_loss))\n",
    "\n",
    "y_ann_pred = model(X_test)\n",
    "test_loss = criterion(y_ann_pred, y_test)\n",
    "\n",
    "print('Test Loss: {:.4f}'.format(test_loss.item()))"
   ]
  },
  {
   "cell_type": "code",
   "execution_count": 3,
   "id": "e21f8d62",
   "metadata": {},
   "outputs": [
    {
     "data": {
      "text/plain": [
       "<matplotlib.legend.Legend at 0x7f2a3851a790>"
      ]
     },
     "execution_count": 3,
     "metadata": {},
     "output_type": "execute_result"
    },
    {
     "data": {
      "image/png": "[encoded data removed]",
      "text/plain": [
       "<Figure size 432x288 with 1 Axes>"
      ]
     },
     "metadata": {
      "needs_background": "light"
     },
     "output_type": "display_data"
    }
   ],
   "source": [
    "#Plot the training loss over time\n",
    "plt.plot(range(epochs), train_loss)\n",
    "plt.title('Model Loss Progress During Training')\n",
    "plt.xlabel('Epoch')\n",
    "plt.ylabel('Training Loss')\n",
    "plt.legend(['Training Loss'])"
   ]
  },
  {
   "cell_type": "code",
   "execution_count": 10,
   "id": "f5c81df8",
   "metadata": {},
   "outputs": [
    {
     "name": "stdout",
     "output_type": "stream",
     "text": [
      "Accuracy: 0.96\n"
     ]
    }
   ],
   "source": [
    "\n",
    "# Make predictions on the testing set and calculate accuracy\n",
    "y_test_numpy = y_test.detach().numpy()\n",
    "y_ann_pred = y_ann_pred.detach().numpy()\n",
    "accuracy = np.mean(np.round(y_ann_pred) == np.round(y_test_numpy))\n",
    "\n",
    "print(f\"Accuracy: {accuracy}\")"
   ]
  },
  {
   "cell_type": "code",
   "execution_count": null,
   "id": "d98a5ad2",
   "metadata": {},
   "outputs": [],
   "source": []
  }
 ],
 "metadata": {
  "kernelspec": {
   "display_name": "LSTM_CNN",
   "language": "python",
   "name": "python3"
  },
  "language_info": {
   "codemirror_mode": {
    "name": "ipython",
    "version": 3
   },
   "file_extension": ".py",
   "mimetype": "text/x-python",
   "name": "python",
   "nbconvert_exporter": "python",
   "pygments_lexer": "ipython3",
   "version": "3.9.12"
  }
 },
 "nbformat": 4,
 "nbformat_minor": 5
}
