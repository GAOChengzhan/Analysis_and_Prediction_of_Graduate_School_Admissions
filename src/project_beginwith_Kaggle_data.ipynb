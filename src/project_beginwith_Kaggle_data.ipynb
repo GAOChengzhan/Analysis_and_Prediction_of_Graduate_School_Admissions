{
 "cells": [
  {
   "cell_type": "code",
   "execution_count": 39,
   "id": "c02de182",
   "metadata": {},
   "outputs": [
    {
     "data": {
      "text/html": [
       "<div>\n",
       "<style scoped>\n",
       "    .dataframe tbody tr th:only-of-type {\n",
       "        vertical-align: middle;\n",
       "    }\n",
       "\n",
       "    .dataframe tbody tr th {\n",
       "        vertical-align: top;\n",
       "    }\n",
       "\n",
       "    .dataframe thead th {\n",
       "        text-align: right;\n",
       "    }\n",
       "</style>\n",
       "<table border=\"1\" class=\"dataframe\">\n",
       "  <thead>\n",
       "    <tr style=\"text-align: right;\">\n",
       "      <th></th>\n",
       "      <th>Unnamed: 0</th>\n",
       "      <th>GRE Score</th>\n",
       "      <th>TOEFL Score</th>\n",
       "      <th>University Rating</th>\n",
       "      <th>SOP</th>\n",
       "      <th>LOR</th>\n",
       "      <th>CGPA</th>\n",
       "      <th>Research</th>\n",
       "      <th>Chance of Admit</th>\n",
       "    </tr>\n",
       "  </thead>\n",
       "  <tbody>\n",
       "    <tr>\n",
       "      <th>0</th>\n",
       "      <td>0</td>\n",
       "      <td>337</td>\n",
       "      <td>118</td>\n",
       "      <td>4</td>\n",
       "      <td>4.5</td>\n",
       "      <td>4.5</td>\n",
       "      <td>3.860</td>\n",
       "      <td>1</td>\n",
       "      <td>0.92</td>\n",
       "    </tr>\n",
       "    <tr>\n",
       "      <th>1</th>\n",
       "      <td>1</td>\n",
       "      <td>324</td>\n",
       "      <td>107</td>\n",
       "      <td>4</td>\n",
       "      <td>4.0</td>\n",
       "      <td>4.5</td>\n",
       "      <td>3.548</td>\n",
       "      <td>1</td>\n",
       "      <td>0.76</td>\n",
       "    </tr>\n",
       "    <tr>\n",
       "      <th>2</th>\n",
       "      <td>2</td>\n",
       "      <td>316</td>\n",
       "      <td>104</td>\n",
       "      <td>3</td>\n",
       "      <td>3.0</td>\n",
       "      <td>3.5</td>\n",
       "      <td>3.200</td>\n",
       "      <td>1</td>\n",
       "      <td>0.72</td>\n",
       "    </tr>\n",
       "    <tr>\n",
       "      <th>3</th>\n",
       "      <td>3</td>\n",
       "      <td>322</td>\n",
       "      <td>110</td>\n",
       "      <td>3</td>\n",
       "      <td>3.5</td>\n",
       "      <td>2.5</td>\n",
       "      <td>3.468</td>\n",
       "      <td>1</td>\n",
       "      <td>0.80</td>\n",
       "    </tr>\n",
       "    <tr>\n",
       "      <th>4</th>\n",
       "      <td>4</td>\n",
       "      <td>314</td>\n",
       "      <td>103</td>\n",
       "      <td>2</td>\n",
       "      <td>2.0</td>\n",
       "      <td>3.0</td>\n",
       "      <td>3.284</td>\n",
       "      <td>0</td>\n",
       "      <td>0.65</td>\n",
       "    </tr>\n",
       "    <tr>\n",
       "      <th>5</th>\n",
       "      <td>5</td>\n",
       "      <td>330</td>\n",
       "      <td>115</td>\n",
       "      <td>5</td>\n",
       "      <td>4.5</td>\n",
       "      <td>3.0</td>\n",
       "      <td>3.736</td>\n",
       "      <td>1</td>\n",
       "      <td>0.90</td>\n",
       "    </tr>\n",
       "  </tbody>\n",
       "</table>\n",
       "</div>"
      ],
      "text/plain": [
       "   Unnamed: 0  GRE Score  TOEFL Score  University Rating  SOP  LOR   CGPA  \\\n",
       "0           0        337          118                  4  4.5  4.5  3.860   \n",
       "1           1        324          107                  4  4.0  4.5  3.548   \n",
       "2           2        316          104                  3  3.0  3.5  3.200   \n",
       "3           3        322          110                  3  3.5  2.5  3.468   \n",
       "4           4        314          103                  2  2.0  3.0  3.284   \n",
       "5           5        330          115                  5  4.5  3.0  3.736   \n",
       "\n",
       "   Research  Chance of Admit  \n",
       "0         1             0.92  \n",
       "1         1             0.76  \n",
       "2         1             0.72  \n",
       "3         1             0.80  \n",
       "4         0             0.65  \n",
       "5         1             0.90  "
      ]
     },
     "execution_count": 39,
     "metadata": {},
     "output_type": "execute_result"
    }
   ],
   "source": [
    "# Import necessary libraries\n",
    "from sklearn.preprocessing import StandardScaler\n",
    "from sklearn.pipeline import Pipeline\n",
    "from sklearn.tree import DecisionTreeRegressor\n",
    "from sklearn.ensemble import RandomForestRegressor\n",
    "from sklearn.linear_model import LinearRegression\n",
    "from xgboost import XGBRegressor\n",
    "from sklearn.neighbors import KNeighborsRegressor\n",
    "from sklearn.inspection import permutation_importance\n",
    "from sklearn.model_selection import train_test_split\n",
    "from sklearn.ensemble import RandomForestRegressor\n",
    "from sklearn.metrics import mean_squared_error\n",
    "import matplotlib.pyplot as plt\n",
    "import matplotlib as mpl\n",
    "import seaborn as sns\n",
    "import pandas as pd\n",
    "import numpy as np\n",
    "import pickle\n",
    "\n",
    "# Load the data into a Pandas dataframe\n",
    "names = ['GRE Score', 'TOEFL Score','University Rating', 'SOP', \n",
    "         'LOR', 'CGPA', 'Research', 'Chance of Admit ']\n",
    "data = pd.read_csv('../data/cleaned_data/cleaned_kaggle_grad_admissions.csv',)\n",
    "\n",
    "data.head(6)"
   ]
  },
  {
   "cell_type": "code",
   "execution_count": 29,
   "id": "73341ccd",
   "metadata": {},
   "outputs": [],
   "source": [
    "\n",
    "# Split the data into training and testing sets\n",
    "X = data.iloc[:, -8:-1]  # select all columns except the last one\n",
    "y = data.iloc[:, -1]   # select the last column\n",
    "yAcc= y.apply(lambda x: 1 if x>0.5 else 0)\n",
    "X_train, X_test, y_train, y_test = train_test_split(X, y, test_size=0.2, random_state=42)\n",
    "\n"
   ]
  },
  {
   "cell_type": "markdown",
   "id": "3a2f4dab",
   "metadata": {},
   "source": [
    "# Linear Regression (by Christoffel)"
   ]
  },
  {
   "cell_type": "code",
   "execution_count": 6,
   "id": "653c6e55",
   "metadata": {},
   "outputs": [],
   "source": [
    "reg = LinearRegression().fit(X_train, y_train)\n",
    "y_pred=reg.predict(X_test)\n",
    "regSave = LinearRegression().fit(X, y)\n",
    "with open('../model/LinearReg.pkl', 'wb') as file:\n",
    "    pickle.dump(regSave, file)"
   ]
  },
  {
   "cell_type": "markdown",
   "id": "d76d0a57",
   "metadata": {},
   "source": [
    "### visualization"
   ]
  },
  {
   "cell_type": "code",
   "execution_count": 7,
   "id": "a1b12a06",
   "metadata": {
    "scrolled": true
   },
   "outputs": [
    {
     "data": {
      "image/png": "[encoded data removed]",
      "text/plain": [
       "<Figure size 400x400 with 1 Axes>"
      ]
     },
     "metadata": {
      "needs_background": "light"
     },
     "output_type": "display_data"
    }
   ],
   "source": [
    "def visualization_for_predict_data(data_observed, data_predicted, label_observed, label_predicted):\n",
    "    mpl.rcParams['figure.dpi']=80\n",
    "    plt.rcParams['figure.figsize'] = [5,5]\n",
    "    plt.scatter(data_observed, data_predicted)\n",
    "    max_v = np.max([data_predicted] + [data_observed]) * 1.1\n",
    "    min_v = np.min([data_predicted] + [data_observed]) * 0.9\n",
    "    plt.plot([min_v,max_v], [min_v,max_v], \"r-\")\n",
    "    plt.xlabel(label_observed)\n",
    "    plt.ylabel(label_predicted)\n",
    "visualization_for_predict_data(y_test, y_pred, \"y_train\", \"y_pred\")"
   ]
  },
  {
   "cell_type": "code",
   "execution_count": 10,
   "id": "b6ebb117",
   "metadata": {},
   "outputs": [
    {
     "name": "stdout",
     "output_type": "stream",
     "text": [
      "0.0037046553987884106\n"
     ]
    }
   ],
   "source": [
    "def MSE_cal(obs,pred):\n",
    "    assert len(obs)==len(pred)\n",
    "    sumErr=0\n",
    "    for i in range(len(pred)):\n",
    "        squareErr=((pred[i]-obs.iloc[i])**2)\n",
    "        sumErr+=squareErr\n",
    "    return sumErr/len(pred)\n",
    "MSE = MSE_cal(y_test,y_pred)\n",
    "print(MSE)"
   ]
  },
  {
   "cell_type": "code",
   "execution_count": 26,
   "id": "a5d233d6",
   "metadata": {},
   "outputs": [
    {
     "name": "stdout",
     "output_type": "stream",
     "text": [
      "0.92\n"
     ]
    }
   ],
   "source": [
    "def Accuracy_cal(obs,pred):\n",
    "    assert len(obs)==len(pred)\n",
    "    cnt=0\n",
    "    if type(y_test)==type(np.array([])):\n",
    "        for i in range(len(pred)):\n",
    "            if pred[i]>0.5 and obs[i]>0.5:\n",
    "                cnt+=1\n",
    "            elif pred[i]<0.5 and obs[i]<0.5:\n",
    "                cnt+=1\n",
    "        return cnt/len(pred)\n",
    "    else:\n",
    "        for i in range(len(pred)):\n",
    "            if pred[i]>0.5 and obs.iloc[i]>0.5:\n",
    "                cnt+=1\n",
    "            elif pred[i]<0.5 and obs.iloc[i]<0.5:\n",
    "                cnt+=1\n",
    "        return cnt/len(pred)\n",
    "accuracy=Accuracy_cal(y_test,y_pred)\n",
    "print(accuracy)"
   ]
  },
  {
   "cell_type": "code",
   "execution_count": 25,
   "id": "f2b4f2e8",
   "metadata": {},
   "outputs": [
    {
     "data": {
      "text/plain": [
       "True"
      ]
     },
     "execution_count": 25,
     "metadata": {},
     "output_type": "execute_result"
    }
   ],
   "source": [
    "type(y_test)==type(np.array([]))"
   ]
  },
  {
   "cell_type": "markdown",
   "id": "29ab60d4",
   "metadata": {},
   "source": [
    "### only pick the gre and gpa features"
   ]
  },
  {
   "cell_type": "code",
   "execution_count": 6,
   "id": "d0bf3f0e",
   "metadata": {},
   "outputs": [
    {
     "name": "stdout",
     "output_type": "stream",
     "text": [
      "0.004216051080066659\n"
     ]
    }
   ],
   "source": [
    "X_trainG=X_train.iloc[:,[1,2,6]]\n",
    "X_testG=X_test.iloc[:,[1,2,6]]\n",
    "reg = LinearRegression().fit(X_trainG, y_train)\n",
    "y_predG=reg.predict(X_testG)\n",
    "MSE = MSE_cal(y_test,y_predG)\n",
    "print(MSE)"
   ]
  },
  {
   "cell_type": "markdown",
   "id": "736ee4a8",
   "metadata": {},
   "source": [
    "- If only pick the three features with highest correlation, MSE is worse than using all feartures\n",
    "- This indicates that other features are still helpful for the prediction."
   ]
  },
  {
   "attachments": {},
   "cell_type": "markdown",
   "id": "84f860ec",
   "metadata": {},
   "source": [
    "## Other models(by Chritoffel)\n",
    "- DecisionTreeRegressor\n",
    "- RandomForestRegressor\n",
    "- XGBRegressor\n",
    "- KNeighborsRegressor"
   ]
  },
  {
   "attachments": {},
   "cell_type": "markdown",
   "id": "5b6f4c3c",
   "metadata": {},
   "source": [
    "### Standard scalar"
   ]
  },
  {
   "cell_type": "code",
   "execution_count": 41,
   "id": "67028d48",
   "metadata": {},
   "outputs": [],
   "source": [
    "scaler = StandardScaler()\n",
    "dataArray=np.array(data)\n",
    "Xdata=dataArray[:, :-1]\n",
    "scaler.fit(Xdata)\n",
    "standard_data = scaler.transform(Xdata)\n",
    "# Split the data into training and testing sets\n",
    "X = standard_data  # select all columns except the last one\n",
    "y =dataArray[:, -1]   # select the last column\n",
    "X_train, X_test, y_train, y_test = train_test_split(X, y, test_size=0.2, random_state=42)"
   ]
  },
  {
   "cell_type": "code",
   "execution_count": 42,
   "id": "5b80724b",
   "metadata": {},
   "outputs": [
    {
     "name": "stdout",
     "output_type": "stream",
     "text": [
      "DecisionTreeRegressor MSE: 0.006072999999999999 Acc: 0.94\n",
      "RandomForestRegressor MSE: 0.003378526099999999 Acc: 0.95\n",
      "XGBRegressor MSE: 0.003296978128710078 Acc: 0.94\n",
      "KNeighborsRegressor MSE: 0.00399248 Acc: 0.93\n"
     ]
    }
   ],
   "source": [
    "classifiers = [\n",
    "    DecisionTreeRegressor(),\n",
    "    RandomForestRegressor(),\n",
    "    XGBRegressor(),\n",
    "    KNeighborsRegressor(),\n",
    "    ]\n",
    "classiferName=['DecisionTreeRegressor','RandomForestRegressor','XGBRegressor','KNeighborsRegressor']\n",
    "def MSE_cal(obs,pred):\n",
    "    assert len(obs)==len(pred)\n",
    "    sumErr=0\n",
    "    for i in range(len(pred)):\n",
    "        squareErr=((pred[i]-obs[i])**2)\n",
    "        sumErr+=squareErr\n",
    "    return sumErr/len(pred)\n",
    "for i,classifier in enumerate(classifiers):\n",
    "    pipe = Pipeline(steps=[('classifier', classifier)])\n",
    "    pipe.fit(X_train, y_train)\n",
    "    y_pred=pipe.predict(X_test)\n",
    "    MSE = MSE_cal(y_test,y_pred)\n",
    "    Acc = Accuracy_cal(y_test,y_pred)\n",
    "    print(\"{} MSE: {} Acc: {}\" .format(classiferName[i],MSE,Acc))"
   ]
  },
  {
   "cell_type": "markdown",
   "id": "4255c327",
   "metadata": {},
   "source": [
    "# Random Forest model(by Tiff Wang)"
   ]
  },
  {
   "cell_type": "code",
   "execution_count": 18,
   "id": "6ee2114e",
   "metadata": {},
   "outputs": [
    {
     "data": {
      "text/plain": [
       "RandomForestRegressor(random_state=42)"
      ]
     },
     "execution_count": 18,
     "metadata": {},
     "output_type": "execute_result"
    }
   ],
   "source": [
    "# Train the Random Forest model\n",
    "rf_model = RandomForestRegressor(n_estimators=100, random_state=42)\n",
    "rf_model.fit(X_train, y_train)\n",
    "\n"
   ]
  },
  {
   "cell_type": "code",
   "execution_count": 19,
   "id": "ff76ec5a",
   "metadata": {},
   "outputs": [],
   "source": [
    "# Make predictions on the test set\n",
    "y_pred = rf_model.predict(X_test)\n",
    "\n"
   ]
  },
  {
   "cell_type": "code",
   "execution_count": 20,
   "id": "d999685b",
   "metadata": {},
   "outputs": [
    {
     "name": "stdout",
     "output_type": "stream",
     "text": [
      "Mean Squared Error: 0.0033273111999999982\n"
     ]
    }
   ],
   "source": [
    "# Evaluate the performance of the model using mean squared error\n",
    "mse = mean_squared_error(y_test, y_pred)\n",
    "print('Mean Squared Error:', mse)\n"
   ]
  },
  {
   "cell_type": "markdown",
   "id": "3e32a987",
   "metadata": {},
   "source": [
    "Loss Function shows that the model is not learning from the training data. In other words, the performance of the model is not improving over time as more training iterations are performed. This is because of the insufficient data."
   ]
  },
  {
   "cell_type": "code",
   "execution_count": 21,
   "id": "b3d5a76c",
   "metadata": {
    "scrolled": true
   },
   "outputs": [
    {
     "data": {
      "image/png": "[encoded data removed]",
      "text/plain": [
       "<Figure size 400x400 with 1 Axes>"
      ]
     },
     "metadata": {
      "needs_background": "light"
     },
     "output_type": "display_data"
    }
   ],
   "source": [
    "# Train the Random Forest model and keep track of the training loss\n",
    "rf_model = RandomForestRegressor(n_estimators=100, random_state=42)\n",
    "train_losses = []\n",
    "for i in range(100):\n",
    "    rf_model.fit(X_train, y_train)\n",
    "    y_train_pred = rf_model.predict(X_train)\n",
    "    train_loss = mean_squared_error(y_train, y_train_pred)\n",
    "    train_losses.append(train_loss)\n",
    "\n",
    "# Plot the training loss over time\n",
    "plt.plot(train_losses)\n",
    "plt.xlabel('Iteration')\n",
    "plt.ylabel('Mean Squared Error')\n",
    "plt.show()\n"
   ]
  },
  {
   "cell_type": "markdown",
   "id": "d7c2422f",
   "metadata": {},
   "source": [
    "# Correlation"
   ]
  },
  {
   "cell_type": "markdown",
   "id": "2d3a584b",
   "metadata": {},
   "source": [
    "calculate the correlation between each feature and the target variable. Features with a higher correlation are more likely to have a greater impact on the prediction results."
   ]
  },
  {
   "cell_type": "code",
   "execution_count": 7,
   "id": "82342857",
   "metadata": {},
   "outputs": [
    {
     "name": "stdout",
     "output_type": "stream",
     "text": [
      "GRE Score            0.810351\n",
      "TOEFL Score          0.792228\n",
      "University Rating    0.690132\n",
      "SOP                  0.684137\n",
      "LOR                  0.645365\n",
      "CGPA                 0.882413\n",
      "Research             0.545871\n",
      "dtype: float64\n"
     ]
    }
   ],
   "source": [
    "# calculate correlation matrix\n",
    "corr_matrix = X.corrwith(y)\n",
    "\n",
    "# print correlation scores for each feature\n",
    "print(corr_matrix)\n"
   ]
  },
  {
   "cell_type": "code",
   "execution_count": 8,
   "id": "c37eabe7",
   "metadata": {},
   "outputs": [
    {
     "data": {
      "image/png": "[encoded data removed]",
      "text/plain": [
       "<Figure size 432x288 with 1 Axes>"
      ]
     },
     "metadata": {},
     "output_type": "display_data"
    }
   ],
   "source": [
    "# calculate correlation matrix\n",
    "corr_matrix = X.corrwith(y)\n",
    "\n",
    "# plot correlation scores\n",
    "sns.set(style=\"whitegrid\")\n",
    "ax = sns.barplot(x=corr_matrix.values, y=corr_matrix.index, palette=\"coolwarm\")\n",
    "ax.set(xlabel=\"Correlation Score\", ylabel=\"Feature\")\n",
    "plt.show()\n"
   ]
  },
  {
   "cell_type": "markdown",
   "id": "dc97c3a5",
   "metadata": {},
   "source": [
    "# Feature permutation importance"
   ]
  },
  {
   "cell_type": "markdown",
   "id": "c4cd37fc",
   "metadata": {},
   "source": [
    "This method involves randomly shuffling the values of each feature and measuring the change in the prediction accuracy. Features that cause the greatest decrease in accuracy when shuffled are considered to be more important."
   ]
  },
  {
   "cell_type": "code",
   "execution_count": 9,
   "id": "ee5c21bb",
   "metadata": {},
   "outputs": [
    {
     "name": "stdout",
     "output_type": "stream",
     "text": [
      "[0.11924543 0.05569972 0.02501786 0.04629195 0.04224017 0.97868606\n",
      " 0.02808381]\n"
     ]
    }
   ],
   "source": [
    "# fit a random forest model\n",
    "rf = RandomForestRegressor(n_estimators=100, random_state=42)\n",
    "rf.fit(X, y)\n",
    "\n",
    "# calculate feature importance\n",
    "result = permutation_importance(rf, X, y, n_repeats=10, random_state=42)\n",
    "\n",
    "# print the feature importance scores\n",
    "print(result.importances_mean)\n"
   ]
  },
  {
   "cell_type": "code",
   "execution_count": 10,
   "id": "cf2170d6",
   "metadata": {},
   "outputs": [
    {
     "data": {
      "image/png": "[encoded data removed]",
      "text/plain": [
       "<Figure size 432x288 with 1 Axes>"
      ]
     },
     "metadata": {},
     "output_type": "display_data"
    }
   ],
   "source": [
    "# plot feature importance scores\n",
    "sorted_idx = result.importances_mean.argsort()\n",
    "plt.barh(range(X.shape[1]), result.importances_mean[sorted_idx])\n",
    "plt.yticks(range(X.shape[1]), X.columns[sorted_idx])\n",
    "plt.xlabel('Feature Importance')\n",
    "plt.show()\n"
   ]
  },
  {
   "cell_type": "code",
   "execution_count": null,
   "id": "563675bd",
   "metadata": {},
   "outputs": [],
   "source": []
  }
 ],
 "metadata": {
  "kernelspec": {
   "display_name": "LSTM_CNN",
   "language": "python",
   "name": "python3"
  },
  "language_info": {
   "codemirror_mode": {
    "name": "ipython",
    "version": 3
   },
   "file_extension": ".py",
   "mimetype": "text/x-python",
   "name": "python",
   "nbconvert_exporter": "python",
   "pygments_lexer": "ipython3",
   "version": "3.9.12"
  },
  "vscode": {
   "interpreter": {
    "hash": "7a620f8b85a875fe73af2276cb3fcbdb29368d0c31c4e54fc0b09ce2d9bf4f13"
   }
  }
 },
 "nbformat": 4,
 "nbformat_minor": 5
}
