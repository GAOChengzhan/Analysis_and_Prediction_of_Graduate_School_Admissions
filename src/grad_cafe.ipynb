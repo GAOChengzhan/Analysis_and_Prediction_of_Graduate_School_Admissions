{
 "cells": [
  {
   "cell_type": "code",
   "execution_count": null,
   "metadata": {},
   "outputs": [],
   "source": [
    "import matplotlib.pyplot as plt\n",
    "import matplotlib as mpl\n",
    "import seaborn as sns\n",
    "import pandas as pd\n",
    "import numpy as np\n",
    "data = pd.read_csv('../data/cleaned_data/cleaned_grad_cafe_admissions.csv',)"
   ]
  },
  {
   "cell_type": "code",
   "execution_count": null,
   "metadata": {},
   "outputs": [],
   "source": [
    "data"
   ]
  }
 ],
 "metadata": {
  "kernelspec": {
   "display_name": "LSTM_CNN",
   "language": "python",
   "name": "python3"
  },
  "language_info": {
   "name": "python",
   "version": "3.9.12 (main, Apr  4 2022, 05:22:27) [MSC v.1916 64 bit (AMD64)]"
  },
  "orig_nbformat": 4,
  "vscode": {
   "interpreter": {
    "hash": "7a620f8b85a875fe73af2276cb3fcbdb29368d0c31c4e54fc0b09ce2d9bf4f13"
   }
  }
 },
 "nbformat": 4,
 "nbformat_minor": 2
}
