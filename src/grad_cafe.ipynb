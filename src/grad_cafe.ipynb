{
 "cells": [
  {
   "cell_type": "code",
   "execution_count": 52,
   "metadata": {},
   "outputs": [],
   "source": [
    "from sklearn.model_selection import train_test_split\n",
    "from sklearn.preprocessing import OneHotEncoder\n",
    "import matplotlib.pyplot as plt\n",
    "import matplotlib as mpl\n",
    "from implicit import bpr\n",
    "import seaborn as sns\n",
    "import pandas as pd\n",
    "import numpy as np\n",
    "HEAD = [\"submissionDate\",\"institution\",\"major\",\"degree\",\"notif_result\",\"notif_date\",\"gpa\",\"gre\",\"gre_w\"]\n",
    "data = pd.read_csv('../data/cleaned_data/cleaned_grad_cafe_admissions.csv',)"
   ]
  },
  {
   "cell_type": "code",
   "execution_count": 53,
   "metadata": {},
   "outputs": [
    {
     "data": {
      "text/html": [
       "<div>\n",
       "<style scoped>\n",
       "    .dataframe tbody tr th:only-of-type {\n",
       "        vertical-align: middle;\n",
       "    }\n",
       "\n",
       "    .dataframe tbody tr th {\n",
       "        vertical-align: top;\n",
       "    }\n",
       "\n",
       "    .dataframe thead th {\n",
       "        text-align: right;\n",
       "    }\n",
       "</style>\n",
       "<table border=\"1\" class=\"dataframe\">\n",
       "  <thead>\n",
       "    <tr style=\"text-align: right;\">\n",
       "      <th></th>\n",
       "      <th>Unnamed: 0</th>\n",
       "      <th>submissionDate</th>\n",
       "      <th>institution</th>\n",
       "      <th>major</th>\n",
       "      <th>degree</th>\n",
       "      <th>notif_result</th>\n",
       "      <th>notif_date</th>\n",
       "      <th>gpa</th>\n",
       "      <th>gre</th>\n",
       "      <th>gre_w</th>\n",
       "    </tr>\n",
       "  </thead>\n",
       "  <tbody>\n",
       "    <tr>\n",
       "      <th>152402</th>\n",
       "      <td>152402</td>\n",
       "      <td>2020-04-01</td>\n",
       "      <td>UC San Diego (UCSD)</td>\n",
       "      <td>Electrical And Computer Engineering</td>\n",
       "      <td>Masters</td>\n",
       "      <td>Accepted</td>\n",
       "      <td>2020-04-01</td>\n",
       "      <td>8.12</td>\n",
       "      <td>325.0</td>\n",
       "      <td>4.0</td>\n",
       "    </tr>\n",
       "    <tr>\n",
       "      <th>152403</th>\n",
       "      <td>152403</td>\n",
       "      <td>2020-04-01</td>\n",
       "      <td>Cornell University</td>\n",
       "      <td>Horticulture</td>\n",
       "      <td>PhD</td>\n",
       "      <td>Rejected</td>\n",
       "      <td>2020-03-31</td>\n",
       "      <td>3.95</td>\n",
       "      <td>321.0</td>\n",
       "      <td>4.5</td>\n",
       "    </tr>\n",
       "    <tr>\n",
       "      <th>152404</th>\n",
       "      <td>152404</td>\n",
       "      <td>2020-04-01</td>\n",
       "      <td>University Of Western Ontario</td>\n",
       "      <td>Speech Language Pathology</td>\n",
       "      <td>Masters</td>\n",
       "      <td>Wait listed</td>\n",
       "      <td>2020-04-01</td>\n",
       "      <td>3.95</td>\n",
       "      <td>306.0</td>\n",
       "      <td>5.0</td>\n",
       "    </tr>\n",
       "    <tr>\n",
       "      <th>152405</th>\n",
       "      <td>152405</td>\n",
       "      <td>2020-04-01</td>\n",
       "      <td>UC San Diego (UCSD)</td>\n",
       "      <td>Electrical And Computer Engineering</td>\n",
       "      <td>Masters</td>\n",
       "      <td>Accepted</td>\n",
       "      <td>2020-04-01</td>\n",
       "      <td>3.67</td>\n",
       "      <td>320.0</td>\n",
       "      <td>3.5</td>\n",
       "    </tr>\n",
       "    <tr>\n",
       "      <th>152406</th>\n",
       "      <td>152406</td>\n",
       "      <td>2020-04-02</td>\n",
       "      <td>UMass-Amherst</td>\n",
       "      <td>Computer Science</td>\n",
       "      <td>Masters</td>\n",
       "      <td>Accepted</td>\n",
       "      <td>2020-04-02</td>\n",
       "      <td>3.60</td>\n",
       "      <td>320.0</td>\n",
       "      <td>3.0</td>\n",
       "    </tr>\n",
       "    <tr>\n",
       "      <th>152407</th>\n",
       "      <td>152407</td>\n",
       "      <td>2020-04-02</td>\n",
       "      <td>University Of Pennsylvania</td>\n",
       "      <td>Chemical And Biomolecular Engineering</td>\n",
       "      <td>Masters</td>\n",
       "      <td>Other</td>\n",
       "      <td>2020-04-02</td>\n",
       "      <td>3.48</td>\n",
       "      <td>309.0</td>\n",
       "      <td>3.0</td>\n",
       "    </tr>\n",
       "  </tbody>\n",
       "</table>\n",
       "</div>"
      ],
      "text/plain": [
       "        Unnamed: 0 submissionDate                    institution  \\\n",
       "152402      152402     2020-04-01            UC San Diego (UCSD)   \n",
       "152403      152403     2020-04-01             Cornell University   \n",
       "152404      152404     2020-04-01  University Of Western Ontario   \n",
       "152405      152405     2020-04-01            UC San Diego (UCSD)   \n",
       "152406      152406     2020-04-02                  UMass-Amherst   \n",
       "152407      152407     2020-04-02     University Of Pennsylvania   \n",
       "\n",
       "                                        major   degree notif_result  \\\n",
       "152402    Electrical And Computer Engineering  Masters     Accepted   \n",
       "152403                           Horticulture      PhD     Rejected   \n",
       "152404              Speech Language Pathology  Masters  Wait listed   \n",
       "152405    Electrical And Computer Engineering  Masters     Accepted   \n",
       "152406                       Computer Science  Masters     Accepted   \n",
       "152407  Chemical And Biomolecular Engineering  Masters        Other   \n",
       "\n",
       "        notif_date   gpa    gre  gre_w  \n",
       "152402  2020-04-01  8.12  325.0    4.0  \n",
       "152403  2020-03-31  3.95  321.0    4.5  \n",
       "152404  2020-04-01  3.95  306.0    5.0  \n",
       "152405  2020-04-01  3.67  320.0    3.5  \n",
       "152406  2020-04-02  3.60  320.0    3.0  \n",
       "152407  2020-04-02  3.48  309.0    3.0  "
      ]
     },
     "execution_count": 53,
     "metadata": {},
     "output_type": "execute_result"
    }
   ],
   "source": [
    "data.tail(6)"
   ]
  },
  {
   "attachments": {},
   "cell_type": "markdown",
   "metadata": {},
   "source": [
    "### Filter the data "
   ]
  },
  {
   "cell_type": "code",
   "execution_count": 64,
   "metadata": {},
   "outputs": [
    {
     "name": "stdout",
     "output_type": "stream",
     "text": [
      "data only contains accepted and rejected:96314\n"
     ]
    }
   ],
   "source": [
    "# replace ['E-mail','Wait listed','Other'] with \"Rejected\"\n",
    "datafiltereed=data.replace(to_replace=['E-mail','Wait listed','Other'],value='Rejected')\n",
    "# filter data with unnormal results\n",
    "datafiltereed=datafiltereed.loc[data['notif_result'].isin(['Accepted','Rejected'])] \n",
    "# filter data with unnormal gpa\n",
    "datafiltereed=datafiltereed[datafiltereed[\"gpa\"].map(lambda x:x>0 and x<4.0)]\n",
    "# filter data with unnormal gre\n",
    "datafiltereed=datafiltereed[datafiltereed[\"gre\"].map(lambda x:x>300 and x<=340)]\n",
    "datafiltereed=datafiltereed[datafiltereed[\"gre_w\"].map(lambda x:x>0.0 and x<=5.0)]\n",
    "# data length\n",
    "print(\"data only contains accepted and rejected:{}\".format(len(datafiltereed)))\n",
    "# Split the data into training and testing sets\n",
    "X = datafiltereed.iloc[:,[1,2,3,4,6,7,8,9]]  # select all columns except the last one\n",
    "y = datafiltereed.iloc[:, 5]   # select the last column\n",
    "X_train, X_test, y_train, y_test = train_test_split(X, y, test_size=0.2, random_state=48)"
   ]
  },
  {
   "attachments": {},
   "cell_type": "markdown",
   "metadata": {},
   "source": [
    "### Onehot Encode"
   ]
  },
  {
   "cell_type": "code",
   "execution_count": 25,
   "metadata": {},
   "outputs": [],
   "source": [
    "enc = OneHotEncoder()\n",
    "institution = set(dataAR.iloc[:,2])\n",
    "major = set(dataAR.iloc[:,3])\n",
    "degree = set(dataAR.iloc[:,4])\n",
    "# one_hot_encoder = enc.fit(integer_classes)"
   ]
  },
  {
   "cell_type": "code",
   "execution_count": 32,
   "metadata": {},
   "outputs": [
    {
     "data": {
      "text/plain": [
       "14306"
      ]
     },
     "execution_count": 32,
     "metadata": {},
     "output_type": "execute_result"
    }
   ],
   "source": [
    "len(m ajor)"
   ]
  },
  {
   "cell_type": "code",
   "execution_count": 23,
   "metadata": {},
   "outputs": [
    {
     "data": {
      "text/plain": [
       "9483"
      ]
     },
     "execution_count": 23,
     "metadata": {},
     "output_type": "execute_result"
    }
   ],
   "source": [
    "len(set(dataAR.iloc[:,2]))"
   ]
  },
  {
   "cell_type": "code",
   "execution_count": null,
   "metadata": {},
   "outputs": [],
   "source": [
    "bpr_model=bpr.BayesianPersonalizedRanking(factors = 8,random_state =33)\n",
    "bpr_model.fit(Xui_csr)"
   ]
  },
  {
   "cell_type": "code",
   "execution_count": null,
   "metadata": {},
   "outputs": [],
   "source": []
  }
 ],
 "metadata": {
  "kernelspec": {
   "display_name": "LSTM_CNN",
   "language": "python",
   "name": "python3"
  },
  "language_info": {
   "codemirror_mode": {
    "name": "ipython",
    "version": 3
   },
   "file_extension": ".py",
   "mimetype": "text/x-python",
   "name": "python",
   "nbconvert_exporter": "python",
   "pygments_lexer": "ipython3",
   "version": "3.9.12"
  },
  "orig_nbformat": 4,
  "vscode": {
   "interpreter": {
    "hash": "7a620f8b85a875fe73af2276cb3fcbdb29368d0c31c4e54fc0b09ce2d9bf4f13"
   }
  }
 },
 "nbformat": 4,
 "nbformat_minor": 2
}
