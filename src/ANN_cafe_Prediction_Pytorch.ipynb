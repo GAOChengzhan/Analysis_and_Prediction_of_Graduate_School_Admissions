{
 "cells": [
  {
   "cell_type": "code",
   "execution_count": 2,
   "id": "fc900160",
   "metadata": {},
   "outputs": [
    {
     "name": "stderr",
     "output_type": "stream",
     "text": [
      "c:\\Users\\solit\\anaconda3\\envs\\LSTM_CNN\\lib\\site-packages\\tqdm\\auto.py:22: TqdmWarning: IProgress not found. Please update jupyter and ipywidgets. See https://ipywidgets.readthedocs.io/en/stable/user_install.html\n",
      "  from .autonotebook import tqdm as notebook_tqdm\n"
     ]
    },
    {
     "name": "stdout",
     "output_type": "stream",
     "text": [
      "<torch.utils.data.dataloader.DataLoader object at 0x000001BEF7B8C3D0>\n"
     ]
    }
   ],
   "source": [
    "#Create by Weirong Dong\n",
    "#Considering only the GPA, GRE, Ranking parameters\n",
    "import openpyxl\n",
    "import torch\n",
    "from torch.utils.data import DataLoader, random_split\n",
    "\n",
    "wb = openpyxl.load_workbook(\"rank_processed.xlsx\")\n",
    "sheet = wb.active\n",
    "\n",
    "# Read data and convert it to pyctorch tensor\n",
    "data = []\n",
    "for row in sheet.iter_rows(min_row=2, values_only=True):\n",
    "    x = [row[2], row[7], row[8]]  # C、H、I\n",
    "    x = torch.tensor(x, dtype=torch.float32)\n",
    "    y = row[10]   # K\n",
    "    data.append((x, y))\n",
    "\n",
    "# Division training set and test set\n",
    "train_size = int(0.8 * len(data))\n",
    "test_size = len(data) - train_size\n",
    "train_data, test_data = random_split(data, [train_size, test_size])\n",
    "\n",
    "# Create a data loader\n",
    "train_loader = DataLoader(train_data, batch_size=1024, shuffle=True)\n",
    "test_loader = DataLoader(test_data, batch_size=1024, shuffle=False)\n",
    "print(test_loader)"
   ]
  },
  {
   "cell_type": "code",
   "execution_count": 9,
   "id": "2f1e0893",
   "metadata": {},
   "outputs": [
    {
     "name": "stderr",
     "output_type": "stream",
     "text": [
      "c:\\Users\\solit\\anaconda3\\envs\\LSTM_CNN\\lib\\site-packages\\torch\\nn\\modules\\loss.py:529: UserWarning: Using a target size (torch.Size([1024])) that is different to the input size (torch.Size([1024, 1])). This will likely lead to incorrect results due to broadcasting. Please ensure they have the same size.\n",
      "  return F.mse_loss(input, target, reduction=self.reduction)\n",
      "c:\\Users\\solit\\anaconda3\\envs\\LSTM_CNN\\lib\\site-packages\\torch\\nn\\modules\\loss.py:529: UserWarning: Using a target size (torch.Size([109])) that is different to the input size (torch.Size([109, 1])). This will likely lead to incorrect results due to broadcasting. Please ensure they have the same size.\n",
      "  return F.mse_loss(input, target, reduction=self.reduction)\n",
      "c:\\Users\\solit\\anaconda3\\envs\\LSTM_CNN\\lib\\site-packages\\torch\\nn\\modules\\loss.py:529: UserWarning: Using a target size (torch.Size([284])) that is different to the input size (torch.Size([284, 1])). This will likely lead to incorrect results due to broadcasting. Please ensure they have the same size.\n",
      "  return F.mse_loss(input, target, reduction=self.reduction)\n"
     ]
    },
    {
     "name": "stdout",
     "output_type": "stream",
     "text": [
      "Epoch 1: Train loss: 1.1619, Test loss: 7.6180\n",
      "Epoch 2: Train loss: 1.2616, Test loss: 1.2814\n",
      "Epoch 3: Train loss: 1.3167, Test loss: 1.3371\n",
      "Epoch 4: Train loss: 1.3313, Test loss: 1.3518\n",
      "Epoch 5: Train loss: 1.3347, Test loss: 1.3552\n",
      "Epoch 6: Train loss: 1.3351, Test loss: 1.3556\n",
      "Epoch 7: Train loss: 1.3347, Test loss: 1.3552\n",
      "Epoch 8: Train loss: 1.3340, Test loss: 1.3546\n",
      "Epoch 9: Train loss: 1.3333, Test loss: 1.3538\n",
      "Epoch 10: Train loss: 1.3325, Test loss: 1.3531\n",
      "Epoch 11: Train loss: 1.3317, Test loss: 1.3522\n",
      "Epoch 12: Train loss: 1.3308, Test loss: 1.3513\n",
      "Epoch 13: Train loss: 1.3299, Test loss: 1.3504\n",
      "Epoch 14: Train loss: 1.3290, Test loss: 1.3494\n",
      "Epoch 15: Train loss: 1.3280, Test loss: 1.3484\n",
      "Epoch 16: Train loss: 1.3269, Test loss: 1.3474\n",
      "Epoch 17: Train loss: 1.3264, Test loss: 1.3469\n",
      "Epoch 18: Train loss: 1.3259, Test loss: 1.3463\n",
      "Epoch 19: Train loss: 1.3253, Test loss: 1.3457\n",
      "Epoch 20: Train loss: 1.3247, Test loss: 1.3452\n",
      "Epoch 21: Train loss: 1.3241, Test loss: 1.3446\n",
      "Epoch 22: Train loss: 1.3235, Test loss: 1.3439\n",
      "Epoch 23: Train loss: 1.3229, Test loss: 1.3433\n",
      "Epoch 24: Train loss: 1.3222, Test loss: 1.3426\n",
      "Epoch 25: Train loss: 1.3216, Test loss: 1.3420\n",
      "Epoch 26: Train loss: 1.3209, Test loss: 1.3413\n",
      "Epoch 27: Train loss: 1.3202, Test loss: 1.3406\n",
      "Epoch 28: Train loss: 1.3195, Test loss: 1.3399\n",
      "Epoch 29: Train loss: 1.3187, Test loss: 1.3391\n",
      "Epoch 30: Train loss: 1.3180, Test loss: 1.3384\n",
      "Epoch 31: Train loss: 1.3173, Test loss: 1.3376\n",
      "Epoch 32: Train loss: 1.3165, Test loss: 1.3368\n",
      "Epoch 33: Train loss: 1.3157, Test loss: 1.3361\n",
      "Epoch 34: Train loss: 1.3149, Test loss: 1.3353\n",
      "Epoch 35: Train loss: 1.3141, Test loss: 1.3344\n",
      "Epoch 36: Train loss: 1.3133, Test loss: 1.3336\n",
      "Epoch 37: Train loss: 1.3124, Test loss: 1.3328\n",
      "Epoch 38: Train loss: 1.3116, Test loss: 1.3319\n",
      "Epoch 39: Train loss: 1.3107, Test loss: 1.3310\n",
      "Epoch 40: Train loss: 1.3098, Test loss: 1.3301\n"
     ]
    }
   ],
   "source": [
    "import torch.nn as nn\n",
    "import torch.optim as optim\n",
    "class ANN(nn.Module):\n",
    "    def __init__(self, input_dim, output_dim):\n",
    "        super(ANN, self).__init__()\n",
    "        self.fc1 = nn.Linear(input_dim, 50)\n",
    "        self.relu1 = nn.ReLU()\n",
    "        self.fc2 = nn.Linear(50, 250)\n",
    "        self.relu2 = nn.ReLU()\n",
    "        self.dropout = nn.Dropout(p=0.5)\n",
    "        self.fc3 = nn.Linear(250, 250)\n",
    "        self.relu3 = nn.ReLU()\n",
    "        self.fc4 = nn.Linear(250, 50)\n",
    "        self.relu4 = nn.ReLU()\n",
    "        self.fc5 = nn.Linear(50, output_dim)\n",
    "\n",
    "    def forward(self, x):\n",
    "        out = self.fc1(x)\n",
    "        out = self.relu1(out)\n",
    "        out = self.fc2(out)\n",
    "        out = self.relu2(out)\n",
    "        out = self.dropout(out)\n",
    "        out = self.fc3(out)\n",
    "        out = self.relu3(out)\n",
    "        out = self.dropout(out)\n",
    "        out = self.fc4(out)\n",
    "        out = self.relu4(out)\n",
    "        out = self.fc5(out)\n",
    "        return out\n",
    " \n",
    "def adjust_learning_rate(optimizer, epoch):\n",
    "    adjust_list = [15]\n",
    "    if epoch in adjust_list:\n",
    "        for param_group in optimizer.param_groups:\n",
    "            param_group['lr'] = param_group['lr'] * 0.5     \n",
    " \n",
    "input_dim = 3\n",
    "output_dim = 1\n",
    "learning_rate = 0.1\n",
    "\n",
    "\n",
    "model = ANN(input_dim, output_dim)\n",
    "criterion = nn.MSELoss()\n",
    "optimizer = optim.Adam(model.parameters(), lr=learning_rate)\n",
    "\n",
    "num_epochs = 40\n",
    "train_loss_hist = []\n",
    "for epoch in range(num_epochs):\n",
    "    for batch in train_loader:\n",
    "        x, y = batch\n",
    "        x = x.to(torch.float32)  \n",
    "        y = y.to(torch.float32)  \n",
    "\n",
    "        output = model(x)\n",
    "        loss = criterion(output, y)\n",
    "\n",
    "        # Reverse spread and update parameters\n",
    "        optimizer.zero_grad()\n",
    "        loss.backward()\n",
    "        optimizer.step()\n",
    "\n",
    "    # After each EPOCH is over, print the loss value of the training set and test set\n",
    "    train_loss = 0.0\n",
    "    for batch in train_loader:\n",
    "        x, y = batch\n",
    "        x = x.to(torch.float32)  \n",
    "        y = y.to(torch.float32)  \n",
    "        output = model(x)\n",
    "        loss = criterion(output, y)\n",
    "        train_loss += loss.item() * x.shape[0]\n",
    "    train_loss /= len(train_loader.dataset)\n",
    "    train_loss_hist.append(train_loss)\n",
    "    adjust_learning_rate(optimizer, epoch)\n",
    "\n",
    "    test_loss = 0.0\n",
    "    for batch in test_loader:\n",
    "        x, y = batch\n",
    "        x = x.to(torch.float32)  \n",
    "        y = y.to(torch.float32)  \n",
    "        output = model(x)\n",
    "        loss = criterion(output, y)\n",
    "        test_loss += loss.item() * x.shape[0]\n",
    "    test_loss /= len(test_loader.dataset)\n",
    "    \n",
    "\n",
    "    print(f'Epoch {epoch + 1}: Train loss: {train_loss:.4f}, Test loss: {test_loss:.4f}')\n"
   ]
  },
  {
   "cell_type": "code",
   "execution_count": 10,
   "id": "e21f8d62",
   "metadata": {},
   "outputs": [
    {
     "data": {
      "text/plain": [
       "<matplotlib.legend.Legend at 0x1be95e71eb0>"
      ]
     },
     "execution_count": 10,
     "metadata": {},
     "output_type": "execute_result"
    },
    {
     "data": {
      "image/png": "[encoded data removed]",
      "text/plain": [
       "<Figure size 432x288 with 1 Axes>"
      ]
     },
     "metadata": {
      "needs_background": "light"
     },
     "output_type": "display_data"
    }
   ],
   "source": [
    "import matplotlib.pyplot as plt\n",
    "\n",
    "#Plot the training loss over time\n",
    "plt.plot(range(num_epochs), train_loss_hist)\n",
    "plt.title('Model Loss Progress During Training')\n",
    "plt.xlabel('Epoch')\n",
    "plt.ylabel('Training Loss')\n",
    "plt.legend(['Training Loss'])"
   ]
  },
  {
   "cell_type": "code",
   "execution_count": 11,
   "id": "4e0b54d3",
   "metadata": {},
   "outputs": [],
   "source": [
    "#save the model\n",
    "torch.save(model.state_dict(), '../model/saved_model.pt')"
   ]
  },
  {
   "cell_type": "code",
   "execution_count": 13,
   "id": "f5c81df8",
   "metadata": {},
   "outputs": [
    {
     "name": "stdout",
     "output_type": "stream",
     "text": [
      "Predicted output: -0.47748008370399475\n"
     ]
    }
   ],
   "source": [
    "# Define the input tensor\n",
    "x = torch.tensor([1, 0, 0], dtype=torch.float32)\n",
    "\n",
    "# Load the trained model\n",
    "model = ANN(input_dim=3, output_dim=1)\n",
    "model.load_state_dict(torch.load('../model/saved_model.pt'))\n",
    "\n",
    "# Make a prediction for the input x\n",
    "model.eval()\n",
    "with torch.no_grad():\n",
    "    y_pred = model(x)\n",
    "y_pred = y_pred.item()\n",
    "\n",
    "print('Predicted output:', y_pred)\n"
   ]
  }
 ],
 "metadata": {
  "kernelspec": {
   "display_name": "LSTM_CNN",
   "language": "python",
   "name": "python3"
  },
  "language_info": {
   "codemirror_mode": {
    "name": "ipython",
    "version": 3
   },
   "file_extension": ".py",
   "mimetype": "text/x-python",
   "name": "python",
   "nbconvert_exporter": "python",
   "pygments_lexer": "ipython3",
   "version": "3.9.12"
  }
 },
 "nbformat": 4,
 "nbformat_minor": 5
}
