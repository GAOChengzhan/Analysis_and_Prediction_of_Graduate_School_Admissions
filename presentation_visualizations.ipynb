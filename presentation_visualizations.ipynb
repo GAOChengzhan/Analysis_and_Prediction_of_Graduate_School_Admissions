{
 "cells": [
  {
   "cell_type": "markdown",
   "id": "b6607cb7",
   "metadata": {},
   "source": [
    "# Analysis and Prediction of Graduate Admissions\n",
    "\n",
    "Predict the probability of admission of certain students and the universities to which they apply. The datasets employed by this project contains several parameters which are considered significant during the application for Masters Programs and for our analysis/prediction.\n",
    "\n",
    "- GRE Scores\n",
    "- Undergraduate GPAs\n",
    "\n",
    "Other parameters, such as TOEFL scores, Statement of Purpose, Letters of Recommendation, etc., are examined but will carry less weight in our analysis"
   ]
  },
  {
   "cell_type": "markdown",
   "id": "363e88f5",
   "metadata": {},
   "source": [
    "## Part I: Import Cleaned Datasets\n",
    "\n",
    "We will preform our data analysis and visualization on our new cleaned GradCafe and Kaggle datasets."
   ]
  },
  {
   "cell_type": "markdown",
   "id": "f69434bf",
   "metadata": {},
   "source": [
    "**Import the following packages using their common shortened name found in parentheses:**\n",
    "\n",
    "* `numpy` (`np`)\n",
    "* `pandas` (`pd`)\n",
    "* `scipy` (`scipy`)\n",
    "* `seaborn` (`sns`)\n",
    "* `matplotlib.pyplot` (`plt`)"
   ]
  },
  {
   "cell_type": "code",
   "execution_count": 2,
   "id": "c36d537b",
   "metadata": {},
   "outputs": [],
   "source": [
    "import numpy as np\n",
    "import pandas as pd\n",
    "import scipy\n",
    "import seaborn as sns\n",
    "import matplotlib.pyplot as plt"
   ]
  },
  {
   "cell_type": "markdown",
   "id": "08c97c48",
   "metadata": {},
   "source": [
    "**Import our modular data cleaning and analysis and visualization scripts:**\n",
    "\n",
    "* `data_cleaning_wrangling.py`\n",
    "* `grad_cafe_analysis_visualization.py`\n",
    "* `kaggle_analysis_visualization.py`"
   ]
  },
  {
   "cell_type": "code",
   "execution_count": null,
   "id": "92f8a5b5",
   "metadata": {},
   "outputs": [],
   "source": [
    "import"
   ]
  }
 ],
 "metadata": {
  "kernelspec": {
   "display_name": "Python 3 (ipykernel)",
   "language": "python",
   "name": "python3"
  },
  "language_info": {
   "codemirror_mode": {
    "name": "ipython",
    "version": 3
   },
   "file_extension": ".py",
   "mimetype": "text/x-python",
   "name": "python",
   "nbconvert_exporter": "python",
   "pygments_lexer": "ipython3",
   "version": "3.11.2"
  }
 },
 "nbformat": 4,
 "nbformat_minor": 5
}
